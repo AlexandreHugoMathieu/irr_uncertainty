{
 "cells": [
  {
   "cell_type": "markdown",
   "id": "64e536b4-be61-4ca4-886b-7fe54fb55bad",
   "metadata": {},
   "source": [
    "# Irradiance interval generation example"
   ]
  },
  {
   "cell_type": "markdown",
   "id": "730629fa-9921-48c6-9d9d-e71fd4e1bac9",
   "metadata": {},
   "source": [
    "<table>\n",
    "  <tr>\n",
    "    <td><img src=\"https://raw.githubusercontent.com/AlexandreHugoMathieu/pvfault_detection_solar_academy/refs/heads/master/notebooks/logos/CSTB_logo.jpg\" width=\"200\" />\n",
    "    <td><img src=\"https://raw.githubusercontent.com/AlexandreHugoMathieu/pvfault_detection_solar_academy/refs/heads/master/notebooks/logos/Heliocity_logo.png\" width=\"200\" /> \n",
    "    <td><img src=\"https://raw.githubusercontent.com/AlexandreHugoMathieu/pvfault_detection_solar_academy/refs/heads/master/notebooks/logos/USMB_logo_horizontal.png\" width=\"200\" />\n",
    "  </tr>\n",
    "</table>\n",
    "\n",
    "<sub>Author: Alexandre MATHIEU, Phd Student, in collaboration Heliocity / CSTB / USMB (LOCIE). </sub>\n",
    "<sub>Phd thesis: Methodology development to guarantee building photovoltaic systems' performance including failure modelling</sub>"
   ]
  },
  {
   "cell_type": "markdown",
   "id": "465a1ab4-3544-471a-b72d-a072e60a4d28",
   "metadata": {},
   "source": [
    "This notebook enables to generate Monte Carlo simulations to generate 95%-interval for the horizontal & Plane Of Array (POA) components.\n",
    "\n",
    "It illustrates the section 2.2.2 of Alexandre MATHIEU's PhD manuscript (2025)."
   ]
  },
  {
   "cell_type": "code",
   "execution_count": 1,
   "id": "e5290212-38ed-478a-826b-bb833ac09c28",
   "metadata": {},
   "outputs": [
    {
     "name": "stdout",
     "output_type": "stream",
     "text": [
      "Work directory: C:\\Users\\oOo\\Desktop\\Work\\code\\irr_uncertainty\n"
     ]
    },
    {
     "ename": "ValueError",
     "evalue": "numpy.ndarray size changed, may indicate binary incompatibility. Expected 96 from C header, got 88 from PyObject",
     "output_type": "error",
     "traceback": [
      "\u001b[1;31m---------------------------------------------------------------------------\u001b[0m",
      "\u001b[1;31mValueError\u001b[0m                                Traceback (most recent call last)",
      "Cell \u001b[1;32mIn[1], line 16\u001b[0m\n\u001b[0;32m     14\u001b[0m \u001b[38;5;66;03m# Bunch of local scripts\u001b[39;00m\n\u001b[0;32m     15\u001b[0m \u001b[38;5;28;01mfrom\u001b[39;00m\u001b[38;5;250m \u001b[39m\u001b[38;5;21;01mirr_uncertainty\u001b[39;00m\u001b[38;5;21;01m.\u001b[39;00m\u001b[38;5;21;01mconfig\u001b[39;00m\u001b[38;5;250m \u001b[39m\u001b[38;5;28;01mimport\u001b[39;00m DATA_PATH\n\u001b[1;32m---> 16\u001b[0m \u001b[38;5;28;01mfrom\u001b[39;00m\u001b[38;5;250m \u001b[39m\u001b[38;5;21;01mirr_uncertainty\u001b[39;00m\u001b[38;5;21;01m.\u001b[39;00m\u001b[38;5;21;01mdata\u001b[39;00m\u001b[38;5;21;01m.\u001b[39;00m\u001b[38;5;21;01mirr_data\u001b[39;00m\u001b[38;5;250m \u001b[39m\u001b[38;5;28;01mimport\u001b[39;00m cams_data_pvlib\n\u001b[0;32m     17\u001b[0m \u001b[38;5;28;01mfrom\u001b[39;00m\u001b[38;5;250m \u001b[39m\u001b[38;5;21;01mirr_uncertainty\u001b[39;00m\u001b[38;5;21;01m.\u001b[39;00m\u001b[38;5;21;01mdata\u001b[39;00m\u001b[38;5;21;01m.\u001b[39;00m\u001b[38;5;21;01msolar_data\u001b[39;00m\u001b[38;5;250m \u001b[39m\u001b[38;5;28;01mimport\u001b[39;00m solarpos\n\u001b[0;32m     18\u001b[0m \u001b[38;5;28;01mfrom\u001b[39;00m\u001b[38;5;250m \u001b[39m\u001b[38;5;21;01mirr_uncertainty\u001b[39;00m\u001b[38;5;21;01m.\u001b[39;00m\u001b[38;5;21;01mmodels\u001b[39;00m\u001b[38;5;21;01m.\u001b[39;00m\u001b[38;5;21;01muncertainty_model\u001b[39;00m\u001b[38;5;250m \u001b[39m\u001b[38;5;28;01mimport\u001b[39;00m irrh_scenarios, transpo_scenarios\n",
      "File \u001b[1;32m~\\Desktop\\Work\\code\\irr_uncertainty\\irr_uncertainty\\data\\irr_data.py:16\u001b[0m\n\u001b[0;32m     13\u001b[0m \u001b[38;5;28;01mfrom\u001b[39;00m\u001b[38;5;250m \u001b[39m\u001b[38;5;21;01mpathlib\u001b[39;00m\u001b[38;5;250m \u001b[39m\u001b[38;5;28;01mimport\u001b[39;00m Path\n\u001b[0;32m     14\u001b[0m \u001b[38;5;28;01mfrom\u001b[39;00m\u001b[38;5;250m \u001b[39m\u001b[38;5;21;01mtqdm\u001b[39;00m\u001b[38;5;250m \u001b[39m\u001b[38;5;28;01mimport\u001b[39;00m tqdm\n\u001b[1;32m---> 16\u001b[0m \u001b[38;5;28;01mfrom\u001b[39;00m\u001b[38;5;250m \u001b[39m\u001b[38;5;21;01mpvlib\u001b[39;00m\u001b[38;5;21;01m.\u001b[39;00m\u001b[38;5;21;01miotools\u001b[39;00m\u001b[38;5;250m \u001b[39m\u001b[38;5;28;01mimport\u001b[39;00m get_cams, get_bsrn\n\u001b[0;32m     17\u001b[0m \u001b[38;5;28;01mfrom\u001b[39;00m\u001b[38;5;250m \u001b[39m\u001b[38;5;21;01mpvlib\u001b[39;00m\u001b[38;5;21;01m.\u001b[39;00m\u001b[38;5;21;01mirradiance\u001b[39;00m\u001b[38;5;250m \u001b[39m\u001b[38;5;28;01mimport\u001b[39;00m dni, get_extra_radiation, clearness_index, aoi\n\u001b[0;32m     18\u001b[0m \u001b[38;5;28;01mfrom\u001b[39;00m\u001b[38;5;250m \u001b[39m\u001b[38;5;21;01mpvlib\u001b[39;00m\u001b[38;5;21;01m.\u001b[39;00m\u001b[38;5;21;01mlocation\u001b[39;00m\u001b[38;5;250m \u001b[39m\u001b[38;5;28;01mimport\u001b[39;00m Location\n",
      "File \u001b[1;32m~\\Desktop\\Work\\code\\irr_uncertainty\\venv\\lib\\site-packages\\pvlib\\__init__.py:3\u001b[0m\n\u001b[0;32m      1\u001b[0m \u001b[38;5;28;01mfrom\u001b[39;00m\u001b[38;5;250m \u001b[39m\u001b[38;5;21;01mpvlib\u001b[39;00m\u001b[38;5;21;01m.\u001b[39;00m\u001b[38;5;21;01mversion\u001b[39;00m\u001b[38;5;250m \u001b[39m\u001b[38;5;28;01mimport\u001b[39;00m __version__  \u001b[38;5;66;03m# noqa: F401\u001b[39;00m\n\u001b[1;32m----> 3\u001b[0m \u001b[38;5;28;01mfrom\u001b[39;00m\u001b[38;5;250m \u001b[39m\u001b[38;5;21;01mpvlib\u001b[39;00m\u001b[38;5;250m \u001b[39m\u001b[38;5;28;01mimport\u001b[39;00m (  \u001b[38;5;66;03m# noqa: F401\u001b[39;00m\n\u001b[0;32m      4\u001b[0m     \u001b[38;5;66;03m# list spectrum first so it's available for atmosphere & pvsystem (GH 1628)\u001b[39;00m\n\u001b[0;32m      5\u001b[0m     spectrum,\n\u001b[0;32m      6\u001b[0m \n\u001b[0;32m      7\u001b[0m     atmosphere,\n\u001b[0;32m      8\u001b[0m     bifacial,\n\u001b[0;32m      9\u001b[0m     clearsky,\n\u001b[0;32m     10\u001b[0m     iam,\n\u001b[0;32m     11\u001b[0m     inverter,\n\u001b[0;32m     12\u001b[0m     iotools,\n\u001b[0;32m     13\u001b[0m     irradiance,\n\u001b[0;32m     14\u001b[0m     ivtools,\n\u001b[0;32m     15\u001b[0m     location,\n\u001b[0;32m     16\u001b[0m     modelchain,\n\u001b[0;32m     17\u001b[0m     pvarray,\n\u001b[0;32m     18\u001b[0m     pvsystem,\n\u001b[0;32m     19\u001b[0m     scaling,\n\u001b[0;32m     20\u001b[0m     shading,\n\u001b[0;32m     21\u001b[0m     singlediode,\n\u001b[0;32m     22\u001b[0m     snow,\n\u001b[0;32m     23\u001b[0m     soiling,\n\u001b[0;32m     24\u001b[0m     solarposition,\n\u001b[0;32m     25\u001b[0m     spa,\n\u001b[0;32m     26\u001b[0m     temperature,\n\u001b[0;32m     27\u001b[0m     tools,\n\u001b[0;32m     28\u001b[0m     tracking,\n\u001b[0;32m     29\u001b[0m )\n",
      "File \u001b[1;32m~\\Desktop\\Work\\code\\irr_uncertainty\\venv\\lib\\site-packages\\pvlib\\spectrum\\__init__.py:2\u001b[0m\n\u001b[0;32m      1\u001b[0m \u001b[38;5;28;01mfrom\u001b[39;00m\u001b[38;5;250m \u001b[39m\u001b[38;5;21;01mpvlib\u001b[39;00m\u001b[38;5;21;01m.\u001b[39;00m\u001b[38;5;21;01mspectrum\u001b[39;00m\u001b[38;5;21;01m.\u001b[39;00m\u001b[38;5;21;01mspectrl2\u001b[39;00m\u001b[38;5;250m \u001b[39m\u001b[38;5;28;01mimport\u001b[39;00m spectrl2  \u001b[38;5;66;03m# noqa: F401\u001b[39;00m\n\u001b[1;32m----> 2\u001b[0m \u001b[38;5;28;01mfrom\u001b[39;00m\u001b[38;5;250m \u001b[39m\u001b[38;5;21;01mpvlib\u001b[39;00m\u001b[38;5;21;01m.\u001b[39;00m\u001b[38;5;21;01mspectrum\u001b[39;00m\u001b[38;5;21;01m.\u001b[39;00m\u001b[38;5;21;01mmismatch\u001b[39;00m\u001b[38;5;250m \u001b[39m\u001b[38;5;28;01mimport\u001b[39;00m (  \u001b[38;5;66;03m# noqa: F401\u001b[39;00m\n\u001b[0;32m      3\u001b[0m     calc_spectral_mismatch_field,\n\u001b[0;32m      4\u001b[0m     get_am15g,\n\u001b[0;32m      5\u001b[0m     get_example_spectral_response,\n\u001b[0;32m      6\u001b[0m     spectral_factor_caballero,\n\u001b[0;32m      7\u001b[0m     spectral_factor_firstsolar,\n\u001b[0;32m      8\u001b[0m     spectral_factor_sapm,\n\u001b[0;32m      9\u001b[0m )\n",
      "File \u001b[1;32m~\\Desktop\\Work\\code\\irr_uncertainty\\venv\\lib\\site-packages\\pvlib\\spectrum\\mismatch.py:8\u001b[0m\n\u001b[0;32m      6\u001b[0m \u001b[38;5;28;01mimport\u001b[39;00m\u001b[38;5;250m \u001b[39m\u001b[38;5;21;01mnumpy\u001b[39;00m\u001b[38;5;250m \u001b[39m\u001b[38;5;28;01mas\u001b[39;00m\u001b[38;5;250m \u001b[39m\u001b[38;5;21;01mnp\u001b[39;00m\n\u001b[0;32m      7\u001b[0m \u001b[38;5;28;01mimport\u001b[39;00m\u001b[38;5;250m \u001b[39m\u001b[38;5;21;01mpandas\u001b[39;00m\u001b[38;5;250m \u001b[39m\u001b[38;5;28;01mas\u001b[39;00m\u001b[38;5;250m \u001b[39m\u001b[38;5;21;01mpd\u001b[39;00m\n\u001b[1;32m----> 8\u001b[0m \u001b[38;5;28;01mfrom\u001b[39;00m\u001b[38;5;250m \u001b[39m\u001b[38;5;21;01mscipy\u001b[39;00m\u001b[38;5;21;01m.\u001b[39;00m\u001b[38;5;21;01minterpolate\u001b[39;00m\u001b[38;5;250m \u001b[39m\u001b[38;5;28;01mimport\u001b[39;00m interp1d\n\u001b[0;32m      9\u001b[0m \u001b[38;5;28;01mfrom\u001b[39;00m\u001b[38;5;250m \u001b[39m\u001b[38;5;21;01mscipy\u001b[39;00m\u001b[38;5;21;01m.\u001b[39;00m\u001b[38;5;21;01mintegrate\u001b[39;00m\u001b[38;5;250m \u001b[39m\u001b[38;5;28;01mimport\u001b[39;00m trapezoid\n\u001b[0;32m     10\u001b[0m \u001b[38;5;28;01mimport\u001b[39;00m\u001b[38;5;250m \u001b[39m\u001b[38;5;21;01mos\u001b[39;00m\n",
      "File \u001b[1;32m~\\Desktop\\Work\\code\\irr_uncertainty\\venv\\lib\\site-packages\\scipy\\interpolate\\__init__.py:167\u001b[0m\n\u001b[0;32m      1\u001b[0m \u001b[38;5;124;03m\"\"\"\u001b[39;00m\n\u001b[0;32m      2\u001b[0m \u001b[38;5;124;03m========================================\u001b[39;00m\n\u001b[0;32m      3\u001b[0m \u001b[38;5;124;03mInterpolation (:mod:`scipy.interpolate`)\u001b[39;00m\n\u001b[1;32m   (...)\u001b[0m\n\u001b[0;32m    165\u001b[0m \u001b[38;5;124;03m(should not be used in new code).\u001b[39;00m\n\u001b[0;32m    166\u001b[0m \u001b[38;5;124;03m\"\"\"\u001b[39;00m\n\u001b[1;32m--> 167\u001b[0m \u001b[38;5;28;01mfrom\u001b[39;00m\u001b[38;5;250m \u001b[39m\u001b[38;5;21;01m.\u001b[39;00m\u001b[38;5;21;01m_interpolate\u001b[39;00m\u001b[38;5;250m \u001b[39m\u001b[38;5;28;01mimport\u001b[39;00m \u001b[38;5;241m*\u001b[39m\n\u001b[0;32m    168\u001b[0m \u001b[38;5;28;01mfrom\u001b[39;00m\u001b[38;5;250m \u001b[39m\u001b[38;5;21;01m.\u001b[39;00m\u001b[38;5;21;01m_fitpack_py\u001b[39;00m\u001b[38;5;250m \u001b[39m\u001b[38;5;28;01mimport\u001b[39;00m \u001b[38;5;241m*\u001b[39m\n\u001b[0;32m    170\u001b[0m \u001b[38;5;66;03m# New interface to fitpack library:\u001b[39;00m\n",
      "File \u001b[1;32m~\\Desktop\\Work\\code\\irr_uncertainty\\venv\\lib\\site-packages\\scipy\\interpolate\\_interpolate.py:9\u001b[0m\n\u001b[0;32m      5\u001b[0m \u001b[38;5;28;01mimport\u001b[39;00m\u001b[38;5;250m \u001b[39m\u001b[38;5;21;01mnumpy\u001b[39;00m\u001b[38;5;250m \u001b[39m\u001b[38;5;28;01mas\u001b[39;00m\u001b[38;5;250m \u001b[39m\u001b[38;5;21;01mnp\u001b[39;00m\n\u001b[0;32m      6\u001b[0m \u001b[38;5;28;01mfrom\u001b[39;00m\u001b[38;5;250m \u001b[39m\u001b[38;5;21;01mnumpy\u001b[39;00m\u001b[38;5;250m \u001b[39m\u001b[38;5;28;01mimport\u001b[39;00m (array, transpose, searchsorted, atleast_1d, atleast_2d,\n\u001b[0;32m      7\u001b[0m                    ravel, poly1d, asarray, intp)\n\u001b[1;32m----> 9\u001b[0m \u001b[38;5;28;01mimport\u001b[39;00m\u001b[38;5;250m \u001b[39m\u001b[38;5;21;01mscipy\u001b[39;00m\u001b[38;5;21;01m.\u001b[39;00m\u001b[38;5;21;01mspecial\u001b[39;00m\u001b[38;5;250m \u001b[39m\u001b[38;5;28;01mas\u001b[39;00m\u001b[38;5;250m \u001b[39m\u001b[38;5;21;01mspec\u001b[39;00m\n\u001b[0;32m     10\u001b[0m \u001b[38;5;28;01mfrom\u001b[39;00m\u001b[38;5;250m \u001b[39m\u001b[38;5;21;01mscipy\u001b[39;00m\u001b[38;5;21;01m.\u001b[39;00m\u001b[38;5;21;01mspecial\u001b[39;00m\u001b[38;5;250m \u001b[39m\u001b[38;5;28;01mimport\u001b[39;00m comb\n\u001b[0;32m     12\u001b[0m \u001b[38;5;28;01mfrom\u001b[39;00m\u001b[38;5;250m \u001b[39m\u001b[38;5;21;01m.\u001b[39;00m\u001b[38;5;250m \u001b[39m\u001b[38;5;28;01mimport\u001b[39;00m _fitpack_py\n",
      "File \u001b[1;32m~\\Desktop\\Work\\code\\irr_uncertainty\\venv\\lib\\site-packages\\scipy\\special\\__init__.py:772\u001b[0m\n\u001b[0;32m      1\u001b[0m \u001b[38;5;124;03m\"\"\"\u001b[39;00m\n\u001b[0;32m      2\u001b[0m \u001b[38;5;124;03m========================================\u001b[39;00m\n\u001b[0;32m      3\u001b[0m \u001b[38;5;124;03mSpecial functions (:mod:`scipy.special`)\u001b[39;00m\n\u001b[1;32m   (...)\u001b[0m\n\u001b[0;32m    767\u001b[0m \n\u001b[0;32m    768\u001b[0m \u001b[38;5;124;03m\"\"\"\u001b[39;00m\n\u001b[0;32m    770\u001b[0m \u001b[38;5;28;01mfrom\u001b[39;00m\u001b[38;5;250m \u001b[39m\u001b[38;5;21;01m.\u001b[39;00m\u001b[38;5;21;01m_sf_error\u001b[39;00m\u001b[38;5;250m \u001b[39m\u001b[38;5;28;01mimport\u001b[39;00m SpecialFunctionWarning, SpecialFunctionError\n\u001b[1;32m--> 772\u001b[0m \u001b[38;5;28;01mfrom\u001b[39;00m\u001b[38;5;250m \u001b[39m\u001b[38;5;21;01m.\u001b[39;00m\u001b[38;5;250m \u001b[39m\u001b[38;5;28;01mimport\u001b[39;00m _ufuncs\n\u001b[0;32m    773\u001b[0m \u001b[38;5;28;01mfrom\u001b[39;00m\u001b[38;5;250m \u001b[39m\u001b[38;5;21;01m.\u001b[39;00m\u001b[38;5;21;01m_ufuncs\u001b[39;00m\u001b[38;5;250m \u001b[39m\u001b[38;5;28;01mimport\u001b[39;00m \u001b[38;5;241m*\u001b[39m\n\u001b[0;32m    775\u001b[0m \u001b[38;5;28;01mfrom\u001b[39;00m\u001b[38;5;250m \u001b[39m\u001b[38;5;21;01m.\u001b[39;00m\u001b[38;5;250m \u001b[39m\u001b[38;5;28;01mimport\u001b[39;00m _basic\n",
      "File \u001b[1;32m~\\Desktop\\Work\\code\\irr_uncertainty\\venv\\lib\\site-packages\\scipy\\special\\_ufuncs.pyx:1\u001b[0m, in \u001b[0;36minit scipy.special._ufuncs\u001b[1;34m()\u001b[0m\n",
      "\u001b[1;31mValueError\u001b[0m: numpy.ndarray size changed, may indicate binary incompatibility. Expected 96 from C header, got 88 from PyObject"
     ]
    }
   ],
   "source": [
    "# Packages..\n",
    "import matplotlib.pyplot as plt\n",
    "import os\n",
    "import pandas as pd\n",
    "\n",
    "from pathlib import Path\n",
    "\n",
    "# Change the directory path to import functions from local modules\n",
    "if not 'workbookDir' in globals():\n",
    "    workbookDir = Path(os.getcwd()).parent\n",
    "print('Work directory: ' + str(workbookDir))\n",
    "os.chdir(workbookDir)\n",
    "\n",
    "# Bunch of local scripts\n",
    "from irr_uncertainty.config import DATA_PATH\n",
    "from irr_uncertainty.data.irr_data import cams_data_pvlib\n",
    "from irr_uncertainty.data.solar_data import solarpos\n",
    "from irr_uncertainty.models.uncertainty_model import irrh_scenarios, transpo_scenarios\n",
    "from irr_uncertainty.utils import q_plot, blue"
   ]
  },
  {
   "cell_type": "markdown",
   "id": "435198a6-0070-4df5-a64c-edcb787244ee",
   "metadata": {},
   "source": [
    "## I. Horizontal plane illustrations"
   ]
  },
  {
   "cell_type": "markdown",
   "id": "dab4688e-c2ab-4fb6-808b-b662158ab36f",
   "metadata": {},
   "source": [
    "Fetch data and generate 95%-intervals from Monte Carlo simulations."
   ]
  },
  {
   "cell_type": "code",
   "execution_count": null,
   "id": "4b489582-0c8b-4d36-8f57-db06b33dcdbf",
   "metadata": {},
   "outputs": [],
   "source": [
    "start = pd.to_datetime(\"20220812\").tz_localize(\"UTC\")\n",
    "end = pd.to_datetime(\"20220816\").tz_localize(\"UTC\")\n",
    "n_scenarios = 1000\n",
    "\n",
    "# Grenoble, FRANCE\n",
    "lat = 45.16\n",
    "long = 5.72\n",
    "alt = 212\n",
    "\n",
    "# Fetch CAMS data\n",
    "sat_data = cams_data_pvlib(lat, long, alt, start, end)\n",
    "\n",
    "# Get hourly solar position and compensate for the end-of time integration\n",
    "solar_position = solarpos(sat_data.index, lat, long, alt).shift(-1)  \n",
    "\n",
    "# Compute the MC simulations\n",
    "ghi_scns, dhi_scns, bhi_scns = irrh_scenarios(lat, long, alt, solar_position, sat_data[\"ghi\"],\n",
    "                                              n_scenarios=n_scenarios)"
   ]
  },
  {
   "cell_type": "markdown",
   "id": "40a90059-b6c0-473e-b65a-1573a442894d",
   "metadata": {},
   "source": [
    "Plot it !"
   ]
  },
  {
   "cell_type": "code",
   "execution_count": null,
   "id": "86e4485d-66c3-45cb-852e-5d19101514ed",
   "metadata": {},
   "outputs": [],
   "source": [
    "# GHI, BHI, DHI, POAgrd\n",
    "plt.style.use(\"ggplot\")\n",
    "quantiles = [0.5, 0.95]\n",
    "fig, axes = plt.subplots(3, 1, figsize=(8, 6), sharex=True)\n",
    "\n",
    "# GHI\n",
    "axes[0] = q_plot(ghi_scns.loc[:], quantiles=quantiles, color=blue, ax=axes[0], label=\"GHI\")\n",
    "alpha = 1 / len(quantiles)\n",
    "axes[0].set_ylabel(\"GHI [W/m²]\", color=\"black\")\n",
    "axes[0].set_ylim([-50, 1400])\n",
    "axes[0].get_yaxis().set_ticks([0, 500, 1000])\n",
    "axes[0].grid(axis=\"x\")\n",
    "\n",
    "# BHI\n",
    "axes[1] = q_plot(bhi_scns.loc[:], quantiles=quantiles, color=\"purple\", ax=axes[1], label=\"BHI\")\n",
    "axes[1].set_ylabel(\"BHI [W/m²]\", color=\"black\")\n",
    "axes[1].set_ylim([-50, 1400])\n",
    "axes[1].get_yaxis().set_ticks([0, 500, 1000])\n",
    "axes[1].grid(axis=\"x\")\n",
    "\n",
    "# DHI\n",
    "axes[2] = q_plot(dhi_scns.loc[:], quantiles=quantiles, color=\"teal\", ax=axes[2], label=\"DHI\")\n",
    "\n",
    "axes[2].set_ylabel(\"DHI [W/m²]\", color=\"black\")\n",
    "axes[2].set_ylim([-50, 1400])\n",
    "axes[2].get_yaxis().set_ticks([0, 500, 1000])\n",
    "axes[2].grid(axis=\"x\")\n",
    "\n",
    "plt.tight_layout()\n",
    "plt.savefig(DATA_PATH / \"irr_data\" / \"images\" / f\"illustration_h_all_quantiles.png\")"
   ]
  },
  {
   "cell_type": "markdown",
   "id": "2a5931df-b748-4867-8b0e-5206ad9c78fe",
   "metadata": {},
   "source": [
    "## II. POA illustrations"
   ]
  },
  {
   "cell_type": "markdown",
   "id": "b32a92f9-0adb-4f85-a4a2-2b33e38b4648",
   "metadata": {},
   "source": [
    "Generate 95%-intervals for the plane of array from Monte Carlo simulations based on the horizontal simulations."
   ]
  },
  {
   "cell_type": "code",
   "execution_count": null,
   "id": "ed9904eb-732a-472a-8422-7c6b2e1ca6fa",
   "metadata": {},
   "outputs": [],
   "source": [
    "tilt = 25\n",
    "\n",
    "# Generate Monte Carlo simulations\n",
    "poa_scns_s, _, _, _ = \\\n",
    "    transpo_scenarios(tilt, 180, lat, long, alt, solar_position, ghi_scns, dhi_scns, n_scenarios=n_scenarios)\n",
    "poa_scns_e, _, _, _ = \\\n",
    "    transpo_scenarios(tilt, 90, lat, long, alt, solar_position, ghi_scns, dhi_scns, n_scenarios=n_scenarios)\n",
    "poa_scns_w, _, _, _ = \\\n",
    "    transpo_scenarios(tilt, 270, lat, long, alt, solar_position, ghi_scns, dhi_scns, n_scenarios=n_scenarios)"
   ]
  },
  {
   "cell_type": "markdown",
   "id": "f01dd628-c035-4356-8c93-bdb776eb8c5e",
   "metadata": {},
   "source": [
    "Plot it !"
   ]
  },
  {
   "cell_type": "code",
   "execution_count": null,
   "id": "7593f821-810b-4311-9a21-0c4e34907a21",
   "metadata": {},
   "outputs": [],
   "source": [
    "# GHI, POAgrd\n",
    "quantiles = [0.5, 0.95]\n",
    "fig, axes = plt.subplots(4, 1, figsize=(8, 8), sharex=True, sharey=True)\n",
    "\n",
    "# GHI\n",
    "axes[0] = q_plot(ghi_scns.loc[:], quantiles=quantiles, color=blue, ax=axes[0], label=\"GHI\")\n",
    "axes[0].set_ylabel(\"GHI [W/m²]\", color=\"black\")\n",
    "axes[0].set_ylim([-50, 1400])\n",
    "axes[0].get_yaxis().set_ticks([0, 500, 1000])\n",
    "axes[0].grid(axis=\"x\")\n",
    "\n",
    "# POA-s\n",
    "axes[1] = q_plot(poa_scns_s.loc[:], quantiles=quantiles, color=\"seagreen\", ax=axes[1], label=\"POA-south\")\n",
    "axes[1].set_ylabel(\"POA (25° south) [W/m²]\", color=\"black\")\n",
    "axes[1].grid(axis=\"x\")\n",
    "\n",
    "# POA-e\n",
    "axes[2] = q_plot(poa_scns_e.loc[:], quantiles=quantiles, color=\"darkseagreen\", ax=axes[2], label=\"POA-east\")\n",
    "axes[2].set_ylabel(\"POA (25° east) [W/m²]\", color=\"black\")\n",
    "axes[2].grid(axis=\"x\")\n",
    "\n",
    "# POA-w\n",
    "axes[3] = q_plot(poa_scns_w.loc[:], quantiles=quantiles, color=\"forestgreen\", ax=axes[3], label=\"POA-west\")\n",
    "axes[3].set_ylabel(\"POA (25° west) [W/m²]\", color=\"black\")\n",
    "axes[3].grid(axis=\"x\")\n",
    "\n",
    "plt.tight_layout()\n",
    "plt.savefig(DATA_PATH \"irr_data\" / \"images\" / f\"illustration_poa_all_quantiles.png\")"
   ]
  }
 ],
 "metadata": {
  "kernelspec": {
   "display_name": "irr_uncertainty_kern",
   "language": "python",
   "name": "irr_uncertainty_kern"
  },
  "language_info": {
   "codemirror_mode": {
    "name": "ipython",
    "version": 3
   },
   "file_extension": ".py",
   "mimetype": "text/x-python",
   "name": "python",
   "nbconvert_exporter": "python",
   "pygments_lexer": "ipython3",
   "version": "3.9.13"
  }
 },
 "nbformat": 4,
 "nbformat_minor": 5
}
